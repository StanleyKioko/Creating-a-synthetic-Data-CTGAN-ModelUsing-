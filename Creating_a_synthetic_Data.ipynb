{
  "nbformat": 4,
  "nbformat_minor": 0,
  "metadata": {
    "colab": {
      "provenance": []
    },
    "kernelspec": {
      "name": "python3",
      "display_name": "Python 3"
    },
    "language_info": {
      "name": "python"
    }
  },
  "cells": [
    {
      "cell_type": "markdown",
      "source": [
        "\n",
        "\n",
        "```\n",
        "##  you need to have ctgan installed on your system. If you have not done it yet, please install ctgan now by executing the command pip install sdv in a terminal.\n",
        "```\n",
        "\n"
      ],
      "metadata": {
        "id": "ugZX-HLOFX69"
      }
    },
    {
      "cell_type": "code",
      "execution_count": 1,
      "metadata": {
        "colab": {
          "base_uri": "https://localhost:8080/"
        },
        "id": "FHVcTwpVXMxq",
        "outputId": "aa669654-3131-46e4-8fe1-6eae65e85dfa"
      },
      "outputs": [
        {
          "output_type": "stream",
          "name": "stdout",
          "text": [
            "Collecting sdv\n",
            "  Downloading sdv-1.17.2-py3-none-any.whl.metadata (13 kB)\n",
            "Collecting boto3<2.0.0,>=1.28 (from sdv)\n",
            "  Downloading boto3-1.35.64-py3-none-any.whl.metadata (6.7 kB)\n",
            "Collecting botocore<2.0.0,>=1.31 (from sdv)\n",
            "  Downloading botocore-1.35.64-py3-none-any.whl.metadata (5.7 kB)\n",
            "Requirement already satisfied: cloudpickle>=2.1.0 in /usr/local/lib/python3.10/dist-packages (from sdv) (3.1.0)\n",
            "Requirement already satisfied: graphviz>=0.13.2 in /usr/local/lib/python3.10/dist-packages (from sdv) (0.20.3)\n",
            "Requirement already satisfied: tqdm>=4.29 in /usr/local/lib/python3.10/dist-packages (from sdv) (4.66.6)\n",
            "Collecting copulas>=0.12.0 (from sdv)\n",
            "  Downloading copulas-0.12.0-py3-none-any.whl.metadata (9.1 kB)\n",
            "Collecting ctgan>=0.10.2 (from sdv)\n",
            "  Downloading ctgan-0.10.2-py3-none-any.whl.metadata (10 kB)\n",
            "Collecting deepecho>=0.6.1 (from sdv)\n",
            "  Downloading deepecho-0.6.1-py3-none-any.whl.metadata (10 kB)\n",
            "Collecting rdt>=1.13.1 (from sdv)\n",
            "  Downloading rdt-1.13.1-py3-none-any.whl.metadata (10 kB)\n",
            "Collecting sdmetrics>=0.17.0 (from sdv)\n",
            "  Downloading sdmetrics-0.17.0-py3-none-any.whl.metadata (8.7 kB)\n",
            "Requirement already satisfied: platformdirs>=4.0 in /usr/local/lib/python3.10/dist-packages (from sdv) (4.3.6)\n",
            "Requirement already satisfied: pyyaml>=6.0.1 in /usr/local/lib/python3.10/dist-packages (from sdv) (6.0.2)\n",
            "Requirement already satisfied: pandas>=1.4.0 in /usr/local/lib/python3.10/dist-packages (from sdv) (2.2.2)\n",
            "Requirement already satisfied: numpy>=1.23.3 in /usr/local/lib/python3.10/dist-packages (from sdv) (1.26.4)\n",
            "Collecting jmespath<2.0.0,>=0.7.1 (from boto3<2.0.0,>=1.28->sdv)\n",
            "  Downloading jmespath-1.0.1-py3-none-any.whl.metadata (7.6 kB)\n",
            "Collecting s3transfer<0.11.0,>=0.10.0 (from boto3<2.0.0,>=1.28->sdv)\n",
            "  Downloading s3transfer-0.10.3-py3-none-any.whl.metadata (1.7 kB)\n",
            "Requirement already satisfied: python-dateutil<3.0.0,>=2.1 in /usr/local/lib/python3.10/dist-packages (from botocore<2.0.0,>=1.31->sdv) (2.8.2)\n",
            "Requirement already satisfied: urllib3!=2.2.0,<3,>=1.25.4 in /usr/local/lib/python3.10/dist-packages (from botocore<2.0.0,>=1.31->sdv) (2.2.3)\n",
            "Requirement already satisfied: plotly>=5.10.0 in /usr/local/lib/python3.10/dist-packages (from copulas>=0.12.0->sdv) (5.24.1)\n",
            "Requirement already satisfied: scipy>=1.9.2 in /usr/local/lib/python3.10/dist-packages (from copulas>=0.12.0->sdv) (1.13.1)\n",
            "Requirement already satisfied: torch>=1.11.0 in /usr/local/lib/python3.10/dist-packages (from ctgan>=0.10.2->sdv) (2.5.1+cu121)\n",
            "Requirement already satisfied: pytz>=2020.1 in /usr/local/lib/python3.10/dist-packages (from pandas>=1.4.0->sdv) (2024.2)\n",
            "Requirement already satisfied: tzdata>=2022.7 in /usr/local/lib/python3.10/dist-packages (from pandas>=1.4.0->sdv) (2024.2)\n",
            "Collecting Faker>=17 (from rdt>=1.13.1->sdv)\n",
            "  Downloading Faker-33.0.0-py3-none-any.whl.metadata (15 kB)\n",
            "Requirement already satisfied: scikit-learn>=1.1.0 in /usr/local/lib/python3.10/dist-packages (from rdt>=1.13.1->sdv) (1.5.2)\n",
            "Requirement already satisfied: typing-extensions in /usr/local/lib/python3.10/dist-packages (from Faker>=17->rdt>=1.13.1->sdv) (4.12.2)\n",
            "Requirement already satisfied: tenacity>=6.2.0 in /usr/local/lib/python3.10/dist-packages (from plotly>=5.10.0->copulas>=0.12.0->sdv) (9.0.0)\n",
            "Requirement already satisfied: packaging in /usr/local/lib/python3.10/dist-packages (from plotly>=5.10.0->copulas>=0.12.0->sdv) (24.2)\n",
            "Requirement already satisfied: six>=1.5 in /usr/local/lib/python3.10/dist-packages (from python-dateutil<3.0.0,>=2.1->botocore<2.0.0,>=1.31->sdv) (1.16.0)\n",
            "Requirement already satisfied: joblib>=1.2.0 in /usr/local/lib/python3.10/dist-packages (from scikit-learn>=1.1.0->rdt>=1.13.1->sdv) (1.4.2)\n",
            "Requirement already satisfied: threadpoolctl>=3.1.0 in /usr/local/lib/python3.10/dist-packages (from scikit-learn>=1.1.0->rdt>=1.13.1->sdv) (3.5.0)\n",
            "Requirement already satisfied: filelock in /usr/local/lib/python3.10/dist-packages (from torch>=1.11.0->ctgan>=0.10.2->sdv) (3.16.1)\n",
            "Requirement already satisfied: networkx in /usr/local/lib/python3.10/dist-packages (from torch>=1.11.0->ctgan>=0.10.2->sdv) (3.4.2)\n",
            "Requirement already satisfied: jinja2 in /usr/local/lib/python3.10/dist-packages (from torch>=1.11.0->ctgan>=0.10.2->sdv) (3.1.4)\n",
            "Requirement already satisfied: fsspec in /usr/local/lib/python3.10/dist-packages (from torch>=1.11.0->ctgan>=0.10.2->sdv) (2024.10.0)\n",
            "Requirement already satisfied: sympy==1.13.1 in /usr/local/lib/python3.10/dist-packages (from torch>=1.11.0->ctgan>=0.10.2->sdv) (1.13.1)\n",
            "Requirement already satisfied: mpmath<1.4,>=1.1.0 in /usr/local/lib/python3.10/dist-packages (from sympy==1.13.1->torch>=1.11.0->ctgan>=0.10.2->sdv) (1.3.0)\n",
            "Requirement already satisfied: MarkupSafe>=2.0 in /usr/local/lib/python3.10/dist-packages (from jinja2->torch>=1.11.0->ctgan>=0.10.2->sdv) (3.0.2)\n",
            "Downloading sdv-1.17.2-py3-none-any.whl (154 kB)\n",
            "\u001b[2K   \u001b[90m━━━━━━━━━━━━━━━━━━━━━━━━━━━━━━━━━━━━━━━━\u001b[0m \u001b[32m154.0/154.0 kB\u001b[0m \u001b[31m4.6 MB/s\u001b[0m eta \u001b[36m0:00:00\u001b[0m\n",
            "\u001b[?25hDownloading boto3-1.35.64-py3-none-any.whl (139 kB)\n",
            "\u001b[2K   \u001b[90m━━━━━━━━━━━━━━━━━━━━━━━━━━━━━━━━━━━━━━━━\u001b[0m \u001b[32m139.2/139.2 kB\u001b[0m \u001b[31m10.2 MB/s\u001b[0m eta \u001b[36m0:00:00\u001b[0m\n",
            "\u001b[?25hDownloading botocore-1.35.64-py3-none-any.whl (12.9 MB)\n",
            "\u001b[2K   \u001b[90m━━━━━━━━━━━━━━━━━━━━━━━━━━━━━━━━━━━━━━━━\u001b[0m \u001b[32m12.9/12.9 MB\u001b[0m \u001b[31m63.3 MB/s\u001b[0m eta \u001b[36m0:00:00\u001b[0m\n",
            "\u001b[?25hDownloading copulas-0.12.0-py3-none-any.whl (52 kB)\n",
            "\u001b[2K   \u001b[90m━━━━━━━━━━━━━━━━━━━━━━━━━━━━━━━━━━━━━━━━\u001b[0m \u001b[32m52.4/52.4 kB\u001b[0m \u001b[31m3.0 MB/s\u001b[0m eta \u001b[36m0:00:00\u001b[0m\n",
            "\u001b[?25hDownloading ctgan-0.10.2-py3-none-any.whl (23 kB)\n",
            "Downloading deepecho-0.6.1-py3-none-any.whl (27 kB)\n",
            "Downloading rdt-1.13.1-py3-none-any.whl (66 kB)\n",
            "\u001b[2K   \u001b[90m━━━━━━━━━━━━━━━━━━━━━━━━━━━━━━━━━━━━━━━━\u001b[0m \u001b[32m66.8/66.8 kB\u001b[0m \u001b[31m5.2 MB/s\u001b[0m eta \u001b[36m0:00:00\u001b[0m\n",
            "\u001b[?25hDownloading sdmetrics-0.17.0-py3-none-any.whl (174 kB)\n",
            "\u001b[2K   \u001b[90m━━━━━━━━━━━━━━━━━━━━━━━━━━━━━━━━━━━━━━━━\u001b[0m \u001b[32m174.7/174.7 kB\u001b[0m \u001b[31m13.3 MB/s\u001b[0m eta \u001b[36m0:00:00\u001b[0m\n",
            "\u001b[?25hDownloading Faker-33.0.0-py3-none-any.whl (1.9 MB)\n",
            "\u001b[2K   \u001b[90m━━━━━━━━━━━━━━━━━━━━━━━━━━━━━━━━━━━━━━━━\u001b[0m \u001b[32m1.9/1.9 MB\u001b[0m \u001b[31m43.5 MB/s\u001b[0m eta \u001b[36m0:00:00\u001b[0m\n",
            "\u001b[?25hDownloading jmespath-1.0.1-py3-none-any.whl (20 kB)\n",
            "Downloading s3transfer-0.10.3-py3-none-any.whl (82 kB)\n",
            "\u001b[2K   \u001b[90m━━━━━━━━━━━━━━━━━━━━━━━━━━━━━━━━━━━━━━━━\u001b[0m \u001b[32m82.6/82.6 kB\u001b[0m \u001b[31m3.5 MB/s\u001b[0m eta \u001b[36m0:00:00\u001b[0m\n",
            "\u001b[?25hInstalling collected packages: jmespath, Faker, botocore, s3transfer, rdt, deepecho, copulas, sdmetrics, ctgan, boto3, sdv\n",
            "Successfully installed Faker-33.0.0 boto3-1.35.64 botocore-1.35.64 copulas-0.12.0 ctgan-0.10.2 deepecho-0.6.1 jmespath-1.0.1 rdt-1.13.1 s3transfer-0.10.3 sdmetrics-0.17.0 sdv-1.17.2\n"
          ]
        }
      ],
      "source": [
        "pip install sdv"
      ]
    },
    {
      "cell_type": "code",
      "source": [
        "import pandas as pd\n",
        "from sdv.single_table import CTGANSynthesizer\n",
        "from sdv.metadata import SingleTableMetadata\n",
        "from google.colab import files\n",
        "\n",
        "# Step 1: Load the dataset\n",
        "file_path = '/content/drive/MyDrive/receivable_details (5).xlsx'  # Update the path as needed\n",
        "data = pd.read_excel(file_path)\n",
        "\n",
        "# Step 2: Add a unique numeric ID column if not already present\n",
        "if 'id' not in data.columns:\n",
        "    data['id'] = range(1, len(data) + 1)\n",
        "\n",
        "# Step 3: Define metadata to ensure synthetic data resembles the original dataset\n",
        "metadata = SingleTableMetadata()\n",
        "\n",
        "# Manually define column metadata to reflect original structure\n",
        "metadata.add_column('id', sdtype='id')\n",
        "metadata.add_column('item_id', sdtype='categorical')\n",
        "metadata.add_column('transaction_id', sdtype='categorical')\n",
        "metadata.add_column('transaction_type', sdtype='categorical')\n",
        "metadata.add_column('transaction_number', sdtype='categorical')\n",
        "metadata.add_column('reference_number', sdtype='categorical')\n",
        "metadata.add_column('transaction_date', sdtype='datetime')\n",
        "metadata.add_column('status', sdtype='categorical')\n",
        "metadata.add_column('status.1', sdtype='categorical')  # Add this line to match the data\n",
        "metadata.add_column('item_name', sdtype='categorical')\n",
        "metadata.add_column('account_id', sdtype='categorical')\n",
        "metadata.add_column('product_id', sdtype='categorical')\n",
        "metadata.add_column('product_name', sdtype='categorical')\n",
        "metadata.add_column('description', sdtype='categorical')\n",
        "metadata.add_column('quantity_ordered', sdtype='numerical')\n",
        "metadata.add_column('quantity_invoiced', sdtype='numerical')\n",
        "metadata.add_column('quantity_cancelled', sdtype='numerical')\n",
        "metadata.add_column('bcy_item_price', sdtype='numerical')\n",
        "metadata.add_column('fcy_item_price', sdtype='numerical')\n",
        "metadata.add_column('bcy_total', sdtype='numerical')\n",
        "metadata.add_column('customer_name', sdtype='categorical')\n",
        "metadata.add_column('salesperson_name', sdtype='categorical')\n",
        "metadata.add_column('customer_id', sdtype='categorical')\n",
        "metadata.add_column('currency_code', sdtype='categorical')\n",
        "metadata.add_column('currency_id', sdtype='categorical')\n",
        "metadata.add_column('project_id', sdtype='categorical')\n",
        "metadata.add_column('invoice.CF.End  User', sdtype='categorical')\n",
        "\n",
        "# Step 4: Initialize the CTGAN model with the metadata\n",
        "model = CTGANSynthesizer(metadata)\n",
        "\n",
        "# Step 5: Train the model on the original data\n",
        "model.fit(data)\n",
        "\n",
        "# Step 6: Save the trained model for future use\n",
        "model_file_path = \"sdv-ctgan-receivable-details.pkl\"\n",
        "model.save(model_file_path)\n",
        "print(f\"Model saved as {model_file_path}\")\n",
        "\n",
        "# Step 7: Generate synthetic data\n",
        "num_rows_to_generate = 1000  # Adjust the number of synthetic rows as needed\n",
        "synthetic_data = model.sample(num_rows=num_rows_to_generate)\n",
        "\n",
        "# Step 8: Save the synthetic data to a CSV file\n",
        "synthetic_file_path = \"synthetic_receivable_data.csv\"\n",
        "synthetic_data.to_csv(synthetic_file_path, index=False)\n",
        "\n",
        "# Step 9: Provide a download link for the synthetic data\n",
        "print(f\"Synthetic data saved as {synthetic_file_path}. You can download it using the link below:\")\n",
        "files.download(synthetic_file_path)\n"
      ],
      "metadata": {
        "colab": {
          "base_uri": "https://localhost:8080/",
          "height": 220
        },
        "id": "8YMmJjSQB9i4",
        "outputId": "f137d1a9-955e-4978-c903-dde4680c4b91"
      },
      "execution_count": 28,
      "outputs": [
        {
          "output_type": "stream",
          "name": "stderr",
          "text": [
            "/usr/local/lib/python3.10/dist-packages/sdv/single_table/base.py:119: FutureWarning: The 'SingleTableMetadata' is deprecated. Please use the new 'Metadata' class for synthesizers.\n",
            "  warnings.warn(DEPRECATION_MSG, FutureWarning)\n",
            "/usr/local/lib/python3.10/dist-packages/sdv/single_table/base.py:104: UserWarning: We strongly recommend saving the metadata using 'save_to_json' for replicability in future SDV versions.\n",
            "  warnings.warn(\n",
            "/usr/local/lib/python3.10/dist-packages/sdv/metadata/single_table.py:1217: UserWarning: No 'datetime_format' is present in the metadata for the following columns:\n",
            "     Column Name   sdtype datetime_format\n",
            "transaction_date datetime            None\n",
            "Without this specification, SDV may not be able to accurately parse the data. We recommend adding datetime formats using 'update_column'.\n",
            "  warnings.warn(message)\n"
          ]
        },
        {
          "output_type": "stream",
          "name": "stdout",
          "text": [
            "Model saved as sdv-ctgan-receivable-details.pkl\n",
            "Synthetic data saved as synthetic_receivable_data.csv. You can download it using the link below:\n"
          ]
        },
        {
          "output_type": "display_data",
          "data": {
            "text/plain": [
              "<IPython.core.display.Javascript object>"
            ],
            "application/javascript": [
              "\n",
              "    async function download(id, filename, size) {\n",
              "      if (!google.colab.kernel.accessAllowed) {\n",
              "        return;\n",
              "      }\n",
              "      const div = document.createElement('div');\n",
              "      const label = document.createElement('label');\n",
              "      label.textContent = `Downloading \"${filename}\": `;\n",
              "      div.appendChild(label);\n",
              "      const progress = document.createElement('progress');\n",
              "      progress.max = size;\n",
              "      div.appendChild(progress);\n",
              "      document.body.appendChild(div);\n",
              "\n",
              "      const buffers = [];\n",
              "      let downloaded = 0;\n",
              "\n",
              "      const channel = await google.colab.kernel.comms.open(id);\n",
              "      // Send a message to notify the kernel that we're ready.\n",
              "      channel.send({})\n",
              "\n",
              "      for await (const message of channel.messages) {\n",
              "        // Send a message to notify the kernel that we're ready.\n",
              "        channel.send({})\n",
              "        if (message.buffers) {\n",
              "          for (const buffer of message.buffers) {\n",
              "            buffers.push(buffer);\n",
              "            downloaded += buffer.byteLength;\n",
              "            progress.value = downloaded;\n",
              "          }\n",
              "        }\n",
              "      }\n",
              "      const blob = new Blob(buffers, {type: 'application/binary'});\n",
              "      const a = document.createElement('a');\n",
              "      a.href = window.URL.createObjectURL(blob);\n",
              "      a.download = filename;\n",
              "      div.appendChild(a);\n",
              "      a.click();\n",
              "      div.remove();\n",
              "    }\n",
              "  "
            ]
          },
          "metadata": {}
        },
        {
          "output_type": "display_data",
          "data": {
            "text/plain": [
              "<IPython.core.display.Javascript object>"
            ],
            "application/javascript": [
              "download(\"download_068b5c2f-e085-4908-86b6-f7e7353def45\", \"synthetic_receivable_data.csv\", 357676)"
            ]
          },
          "metadata": {}
        }
      ]
    }
  ]
}